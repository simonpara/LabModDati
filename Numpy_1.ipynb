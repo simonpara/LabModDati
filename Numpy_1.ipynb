{
 "cells": [
  {
   "cell_type": "markdown",
   "metadata": {},
   "source": [
    "# Libreria Numpy\n",
    "\n",
    "Nella documentazione ufficiale:\n",
    "- Quickstart, per iniziare a smanettare da subito: https://numpy.org/doc/stable/user/quickstart.html\n",
    "- Tutorial più completo con approccio teorico: https://numpy.org/doc/stable/user/absolute_beginners.html "
   ]
  },
  {
   "cell_type": "code",
   "execution_count": 3,
   "metadata": {},
   "outputs": [],
   "source": [
    "import numpy as np"
   ]
  },
  {
   "cell_type": "code",
   "execution_count": 4,
   "metadata": {},
   "outputs": [
    {
     "name": "stdout",
     "output_type": "stream",
     "text": [
      "(10,)\n",
      "[0 1 2 3 4 5 6 7 8 9]\n",
      "<class 'numpy.ndarray'>\n",
      "[[0]\n",
      " [1]\n",
      " [2]\n",
      " [3]\n",
      " [4]\n",
      " [5]\n",
      " [6]\n",
      " [7]\n",
      " [8]\n",
      " [9]]\n",
      "(10, 1)\n",
      "2\n",
      "2\n"
     ]
    }
   ],
   "source": [
    "# Prima prova semplice\n",
    "\n",
    "a = np.arange(10)\n",
    "print(np.shape(a)) # equivalente a a.shape\n",
    "print(a)\n",
    "print(type(a))\n",
    "\n",
    "a2 = a[:,np.newaxis]\n",
    "print(a2)\n",
    "print(a2.shape)\n",
    "\n",
    "print(a[2])\n",
    "print(a2[2,0])"
   ]
  },
  {
   "cell_type": "code",
   "execution_count": 5,
   "metadata": {},
   "outputs": [
    {
     "name": "stdout",
     "output_type": "stream",
     "text": [
      "[[ 1  2  3  4]\n",
      " [ 5  6  7  8]\n",
      " [ 9 10 11 12]]\n",
      "<class 'numpy.ndarray'>\n",
      "prendo un solo elemento nella posizione 1,1 6\n",
      "prendo la riga 0 [1 2 3 4]\n",
      "prendo la colonna 0 [1 5 9]\n",
      "è equivalente a prendere la riga 0 - numpy salva gli array row-wise [5 6 7 8]\n",
      "[5. 6. 7. 8.]\n",
      "[ 2.5  6.5 10.5]\n"
     ]
    }
   ],
   "source": [
    "b = np.arange(10)\n",
    "c = np.arange(10)\n",
    "\n",
    "a = np.array([[1, 2, 3, 4], [5, 6, 7, 8], [9, 10, 11, 12]])\n",
    "print(a)\n",
    "print(type(a))\n",
    "\n",
    "print('prendo un solo elemento nella posizione 1,1',a[1,1])\n",
    "print('prendo la riga 0', a[0,:])\n",
    "print('prendo la colonna 0',a[:,0])\n",
    "print('è equivalente a prendere la riga 0 - numpy salva gli array row-wise',a[1])\n",
    "print(np.mean(a,axis=0))\n",
    "print(np.mean(a,axis=1))"
   ]
  },
  {
   "cell_type": "markdown",
   "metadata": {},
   "source": [
    "# Creare Array "
   ]
  },
  {
   "cell_type": "code",
   "execution_count": 6,
   "metadata": {},
   "outputs": [
    {
     "name": "stdout",
     "output_type": "stream",
     "text": [
      "[1. 1. 1. 1. 1. 1.]\n",
      "[[1. 1. 1. 1. 1. 1.]\n",
      " [1. 1. 1. 1. 1. 1.]\n",
      " [1. 1. 1. 1. 1. 1.]\n",
      " [1. 1. 1. 1. 1. 1.]\n",
      " [1. 1. 1. 1. 1. 1.]\n",
      " [1. 1. 1. 1. 1. 1.]]\n",
      "[0. 0. 0. 0. 0. 0.]\n",
      "[ 1  3  5  7  9 11 13 15 17 19]\n",
      "[ 1.  2.  3.  4.  5.  6.  7.  8.  9. 10.]\n"
     ]
    }
   ],
   "source": [
    "array_per_elementi = np.array([1,2,3,4]) # o la sua variante N-dimensionale\n",
    "array_unitario = np.ones(6) # crea un array di 1 con dimensione 6\n",
    "print(array_unitario)\n",
    "matrice_unit = np.ones([6,6])\n",
    "print(matrice_unit)\n",
    "\n",
    "array_nullo = np.zeros(6) # crea un array di 0\n",
    "print(array_nullo) \n",
    "# analogo per matrici come per ones\n",
    "\n",
    "a = np.arange(1,20,2) \n",
    "print(a)\n",
    "\n",
    "b = np.linspace(1,10,num=10) # unico caso in cui gli estremi sono entrambi inclusi\n",
    "print(b)"
   ]
  },
  {
   "cell_type": "code",
   "execution_count": 7,
   "metadata": {},
   "outputs": [
    {
     "data": {
      "text/plain": [
       "array([-20,  -3,   0,   1,   2,   4,   7,  18])"
      ]
     },
     "execution_count": 7,
     "metadata": {},
     "output_type": "execute_result"
    }
   ],
   "source": [
    "c = np.array([1,2,4,7,0,-3,-20,18],)\n",
    "np.sort(c)"
   ]
  },
  {
   "cell_type": "code",
   "execution_count": 8,
   "metadata": {},
   "outputs": [
    {
     "name": "stdout",
     "output_type": "stream",
     "text": [
      "[ 2.  5.  8. 11. 14. 17. 20. 23. 26. 29.]\n"
     ]
    },
    {
     "data": {
      "text/plain": [
       "array([ 1.,  3.,  5.,  7.,  9., 11., 13., 15., 17., 19.,  1.,  2.,  3.,\n",
       "        4.,  5.,  6.,  7.,  8.,  9., 10.])"
      ]
     },
     "execution_count": 8,
     "metadata": {},
     "output_type": "execute_result"
    }
   ],
   "source": [
    "print(a+b)\n",
    "d = np.concatenate((a,b))\n",
    "d"
   ]
  },
  {
   "cell_type": "code",
   "execution_count": 9,
   "metadata": {},
   "outputs": [
    {
     "name": "stdout",
     "output_type": "stream",
     "text": [
      "(6, 6)\n",
      "2\n",
      "36\n"
     ]
    }
   ],
   "source": [
    "print(np.shape(matrice_unit))\n",
    "print(np.ndim(matrice_unit)) # mi dice il numero di assi dell'array\n",
    "print(np.size(matrice_unit)) # mi dice gli elementi totali"
   ]
  },
  {
   "cell_type": "code",
   "execution_count": 10,
   "metadata": {},
   "outputs": [
    {
     "name": "stdout",
     "output_type": "stream",
     "text": [
      "[[0 1]\n",
      " [2 3]\n",
      " [4 5]]\n"
     ]
    }
   ],
   "source": [
    "a = np.arange(6)\n",
    "#e = a.reshape(3,2)\n",
    "e = np.reshape(a, (3,2))\n",
    "print(e)"
   ]
  },
  {
   "cell_type": "code",
   "execution_count": 11,
   "metadata": {},
   "outputs": [
    {
     "name": "stdout",
     "output_type": "stream",
     "text": [
      "3\n"
     ]
    }
   ],
   "source": [
    "print(a[-3]) # con il \"-\" conta gli elementi dall'ultimo"
   ]
  },
  {
   "cell_type": "code",
   "execution_count": 12,
   "metadata": {},
   "outputs": [
    {
     "name": "stdout",
     "output_type": "stream",
     "text": [
      "[10 11 12 13 14 15 16 17 18 19]\n"
     ]
    }
   ],
   "source": [
    "a = np.arange(100)\n",
    "print(a[(a>=10) & (a<20)])"
   ]
  },
  {
   "cell_type": "code",
   "execution_count": 13,
   "metadata": {},
   "outputs": [
    {
     "name": "stdout",
     "output_type": "stream",
     "text": [
      "[4 3 2 1]\n"
     ]
    }
   ],
   "source": [
    "a = np.array([0,0,4,3,0,2,1])\n",
    "i = np.nonzero(a)\n",
    "print(a[i])"
   ]
  },
  {
   "cell_type": "markdown",
   "metadata": {},
   "source": [
    "# ATTENZIONE"
   ]
  },
  {
   "cell_type": "code",
   "execution_count": 14,
   "metadata": {},
   "outputs": [
    {
     "name": "stdout",
     "output_type": "stream",
     "text": [
      "[0 1 2 3 4 5 6 7 8 9]\n"
     ]
    }
   ],
   "source": [
    "a = np.arange(10)\n",
    "print(a)"
   ]
  },
  {
   "cell_type": "code",
   "execution_count": 15,
   "metadata": {},
   "outputs": [
    {
     "name": "stdout",
     "output_type": "stream",
     "text": [
      "[0 1 2 3 4 5 6 7 8 9]\n"
     ]
    }
   ],
   "source": [
    "b = a\n",
    "print(b)"
   ]
  },
  {
   "cell_type": "code",
   "execution_count": 16,
   "metadata": {},
   "outputs": [
    {
     "name": "stdout",
     "output_type": "stream",
     "text": [
      "[99  1  2  3  4  5  6  7  8  9]\n"
     ]
    }
   ],
   "source": [
    "b[0] = 99\n",
    "print(b)"
   ]
  },
  {
   "cell_type": "code",
   "execution_count": 17,
   "metadata": {},
   "outputs": [
    {
     "name": "stdout",
     "output_type": "stream",
     "text": [
      "[99  1  2  3  4  5  6  7  8  9]\n"
     ]
    }
   ],
   "source": [
    "print(a)"
   ]
  },
  {
   "cell_type": "code",
   "execution_count": 18,
   "metadata": {},
   "outputs": [
    {
     "name": "stdout",
     "output_type": "stream",
     "text": [
      "[0 1 2 3 4 5 6 7 8 9]\n",
      "[0 1 2 3 4 5 6 7 8 9]\n",
      "[0 1 2 3 4 5 6 7 8 9] [99  1  2  3  4  5  6  7  8  9]\n"
     ]
    }
   ],
   "source": [
    "# copia reale \n",
    "a = np.arange(10)\n",
    "print(a)\n",
    "b = a.copy()\n",
    "#b = np.copy(a)\n",
    "print(b)\n",
    "b[0]=99\n",
    "print(a,b)"
   ]
  },
  {
   "cell_type": "code",
   "execution_count": 19,
   "metadata": {},
   "outputs": [
    {
     "name": "stdout",
     "output_type": "stream",
     "text": [
      "[0 1 2 3 4 5 6 7 8 9]\n",
      "[0. 1. 2. 3. 4. 5. 6. 7. 8. 9.]\n",
      "[0 1 2 3 4 5 6 7 8 9] [99.  1.  2.  3.  4.  5.  6.  7.  8.  9.]\n"
     ]
    }
   ],
   "source": [
    "#oppure, ma meno elegante\n",
    "a = np.arange(10)\n",
    "print(a)\n",
    "b = np.zeros(len(a))\n",
    "b[:]=a[:] # se non metto le parentesi quadre non creo una copia ma un puntatore\n",
    "print(b)\n",
    "b[0]=99\n",
    "print(a,b)"
   ]
  },
  {
   "cell_type": "markdown",
   "metadata": {},
   "source": [
    "# Operazioni algebra lineare"
   ]
  },
  {
   "cell_type": "code",
   "execution_count": 20,
   "metadata": {},
   "outputs": [
    {
     "name": "stdout",
     "output_type": "stream",
     "text": [
      "[0.09135212 0.39353016 0.48665149 0.55521576 0.69298982 0.72242308\n",
      " 0.93448766 0.18776886 0.02034483 0.66803699]\n",
      "[[ 0.32485889  0.48510328 -0.46948319 -2.18001286 -0.15840845  0.20591334\n",
      "   1.27541107 -1.32499819  0.69964673 -1.19088182]\n",
      " [ 0.83854391 -0.3048683  -0.01826392  0.5437595   0.76044048  0.48618481\n",
      "  -0.74107541  0.46816268 -1.30843429  0.02781084]\n",
      " [ 0.76629716  0.79274846 -0.602198    1.46290443  1.06412286  0.01389085\n",
      "  -0.25174974 -2.39901609  1.11386856 -1.86133042]\n",
      " [-1.14191984  1.80272675  0.3964008   1.77074814 -2.22735475 -0.02933406\n",
      "   0.29969825 -2.9839157   1.2726251  -0.53997448]\n",
      " [ 0.50116775 -0.37741937 -0.32927896 -0.28656424  2.00149863  0.94944627\n",
      "   0.29603189 -0.99623477 -0.1928169   0.31999811]\n",
      " [-0.55650866  1.03980385  0.10521334  1.27915484 -0.02775123 -0.31778319\n",
      "   2.35393178  0.87562184 -0.33925571 -0.67893251]\n",
      " [-1.16285247 -0.6530008   1.19306701 -0.25244611 -0.49774501  0.08190731\n",
      "   0.86747498  1.61854079 -0.01858923  0.84797104]\n",
      " [-0.76646647  0.32927624  0.30929252  2.0542129   0.63538536  0.11067782\n",
      "   0.1737868  -0.27468996 -1.85947059 -1.87312305]\n",
      " [ 1.47408454 -2.6199107  -0.29487639  0.28038921  1.04164138  0.41688123\n",
      "   1.91467031  0.57497696  1.19972127 -0.25749723]\n",
      " [-0.45015631  1.07755114  0.50095768 -0.81278272 -2.21199616  1.09670644\n",
      "  -0.79522173 -0.03194105  0.11561409  0.03552428]]\n"
     ]
    }
   ],
   "source": [
    "a = np.random.uniform(0,1,10) # genera 10 numeri distribuiti in maniera uniforme tra 0 e 1\n",
    "print(a)\n",
    "B = np.random.normal(0,1,(10,10)) # genera una matrice 10x10 con valori distribuiti come una Normale  con var=1 e media 0\n",
    "print(B)"
   ]
  },
  {
   "cell_type": "code",
   "execution_count": 21,
   "metadata": {},
   "outputs": [
    {
     "data": {
      "text/plain": [
       "array([[ 2.81205531e-01,  8.11229653e-01, -1.03656849e+00,\n",
       "        -2.54684628e-01, -4.37470236e+00,  3.50838410e+00,\n",
       "         7.32695274e-01, -1.41712538e-01,  2.90787183e-02,\n",
       "        -5.60959940e-01],\n",
       "       [ 1.08941362e-01, -1.29082019e+00, -2.66455052e+01,\n",
       "         1.02106862e+00,  9.11300546e-01,  1.48590219e+00,\n",
       "        -1.26098862e+00,  4.01076093e-01, -1.55489889e-02,\n",
       "         2.40207398e+01],\n",
       "       [ 1.19212390e-01,  4.96412397e-01, -8.08125377e-01,\n",
       "         3.79529757e-01,  6.51231024e-01,  5.20071351e+01,\n",
       "        -3.71197064e+00, -7.82691110e-02,  1.82650189e-02,\n",
       "        -3.58902957e-01],\n",
       "       [-7.99987112e-02,  2.18297179e-01,  1.22767535e+00,\n",
       "         3.13548692e-01, -3.11126830e-01, -2.46274487e+01,\n",
       "         3.11809520e+00, -6.29269979e-02,  1.59865071e-02,\n",
       "        -1.23716401e+00],\n",
       "       [ 1.82278520e-01, -1.04268671e+00, -1.47793072e+00,\n",
       "        -1.93749145e+00,  3.46235472e-01,  7.60888845e-01,\n",
       "         3.15671286e+00, -1.88478522e-01, -1.05513729e-01,\n",
       "         2.08762796e+00],\n",
       "       [-1.64152190e-01,  3.78465771e-01,  4.62537802e+00,\n",
       "         4.34048910e-01, -2.49714985e+01, -2.27332063e+00,\n",
       "         3.96990122e-01,  2.14440583e-01, -5.99690141e-02,\n",
       "        -9.83951989e-01],\n",
       "       [-7.85586461e-02, -6.02648827e-01,  4.07899541e-01,\n",
       "        -2.19934369e+00, -1.39225870e+00,  8.82000683e+00,\n",
       "         1.07725028e+00,  1.16011198e-01, -1.09444199e+00,\n",
       "         7.87806374e-01],\n",
       "       [-1.19186057e-01,  1.19513685e+00,  1.57343438e+00,\n",
       "         2.70281510e-01,  1.09066067e+00,  6.52726160e+00,\n",
       "         5.37720727e+00, -6.83566516e-01, -1.09411949e-02,\n",
       "        -3.56643411e-01],\n",
       "       [ 6.19721008e-02, -1.50207472e-01, -1.65035756e+00,\n",
       "         1.98016097e+00,  6.65286382e-01,  1.73292302e+00,\n",
       "         4.88067141e-01,  3.26567618e-01,  1.69579640e-02,\n",
       "        -2.59434633e+00],\n",
       "       [-2.02934209e-01,  3.65207877e-01,  9.71442306e-01,\n",
       "        -6.83104782e-01, -3.13287082e-01,  6.58720553e-01,\n",
       "        -1.17512844e+00, -5.87860562e+00,  1.75971894e-01,\n",
       "         1.88050799e+01]])"
      ]
     },
     "execution_count": 21,
     "metadata": {},
     "output_type": "execute_result"
    }
   ],
   "source": [
    "a + B # somma il vettore colonna a tutte le righe della matrice\n",
    "a * B # fa il prodotto element wise del vettore per la matrice \n",
    "a - B\n",
    "a / B"
   ]
  },
  {
   "cell_type": "code",
   "execution_count": 22,
   "metadata": {},
   "outputs": [
    {
     "name": "stdout",
     "output_type": "stream",
     "text": [
      "[[ 0.59175408  0.71404057  0.78584075 -1.80883303  0.23189446  2.39581476\n",
      "   0.09709173 -0.31568715 -0.13754349 -0.28968131]\n",
      " [-0.33191377  0.01322863 -0.03344426  0.11030868  0.07163129  0.60278346\n",
      "  -1.8441036  -0.97515209  0.49368645 -0.49259233]\n",
      " [ 0.79528316 -1.35340503  0.49192418 -0.22449988  1.09017904 -0.2412199\n",
      "   0.11091598  0.75194198  0.33387413 -1.26219971]\n",
      " [-0.42271122  0.75384779 -0.42846574 -0.08061201 -0.19050394 -0.72003411\n",
      "   1.08654583 -1.56960205 -0.89486087  0.7251959 ]\n",
      " [-0.36939477  0.7589973   0.48454626 -0.66794638  1.16209905  1.38940801\n",
      "   0.77608085 -0.56738734 -0.30370095  0.38632638]]\n",
      "(5, 10)\n"
     ]
    }
   ],
   "source": [
    "C = np.random.normal(0,1,(5,10))\n",
    "print(C)\n",
    "print(np.shape(C*a)) # moltiplicazione element wise"
   ]
  },
  {
   "cell_type": "code",
   "execution_count": 23,
   "metadata": {},
   "outputs": [
    {
     "name": "stdout",
     "output_type": "stream",
     "text": [
      "[ 1.43982349 -1.72046249 -0.35554757  0.53948237  2.80955924]\n"
     ]
    }
   ],
   "source": [
    "D = np.dot(C,a) # moltiplicazione riga per colonna (o np.matmul o @)\n",
    "print(D)"
   ]
  },
  {
   "cell_type": "markdown",
   "metadata": {},
   "source": [
    "$ a = a_\\mu$ \n",
    "\n",
    "$ C = C^i_j$\n",
    "\n",
    "$ D = C^i_j\\cdot a_\\mu = d_j $"
   ]
  },
  {
   "cell_type": "code",
   "execution_count": 24,
   "metadata": {},
   "outputs": [
    {
     "name": "stdout",
     "output_type": "stream",
     "text": [
      "[ 1.43982349 -1.72046249 -0.35554757  0.53948237  2.80955924]\n"
     ]
    }
   ],
   "source": [
    "E = np.dot(a,C.T) # array.T è equivalente a np.transpose(C)\n",
    "print(E)"
   ]
  },
  {
   "cell_type": "code",
   "execution_count": 25,
   "metadata": {},
   "outputs": [
    {
     "data": {
      "text/plain": [
       "array([[ 0.59175408, -0.33191377,  0.79528316, -0.42271122, -0.36939477],\n",
       "       [ 0.71404057,  0.01322863, -1.35340503,  0.75384779,  0.7589973 ],\n",
       "       [ 0.78584075, -0.03344426,  0.49192418, -0.42846574,  0.48454626],\n",
       "       [-1.80883303,  0.11030868, -0.22449988, -0.08061201, -0.66794638],\n",
       "       [ 0.23189446,  0.07163129,  1.09017904, -0.19050394,  1.16209905],\n",
       "       [ 2.39581476,  0.60278346, -0.2412199 , -0.72003411,  1.38940801],\n",
       "       [ 0.09709173, -1.8441036 ,  0.11091598,  1.08654583,  0.77608085],\n",
       "       [-0.31568715, -0.97515209,  0.75194198, -1.56960205, -0.56738734],\n",
       "       [-0.13754349,  0.49368645,  0.33387413, -0.89486087, -0.30370095],\n",
       "       [-0.28968131, -0.49259233, -1.26219971,  0.7251959 ,  0.38632638]])"
      ]
     },
     "execution_count": 25,
     "metadata": {},
     "output_type": "execute_result"
    }
   ],
   "source": [
    "#trasposizione\n",
    "C.T #metodo che restituisce la trasposta di C\n",
    "np.transpose(C) # funzione equivalente"
   ]
  },
  {
   "cell_type": "code",
   "execution_count": 26,
   "metadata": {},
   "outputs": [
    {
     "name": "stdout",
     "output_type": "stream",
     "text": [
      "[11.15414293 31.82622476  9.62716962  5.5679765  35.12890501  3.89402218\n",
      " 41.03766311 47.82636759 37.68007836 91.95696683]\n",
      "315.6995169023859\n"
     ]
    }
   ],
   "source": [
    "b = np.random.uniform(1,10,10)\n",
    "c = np.random.uniform(1,10,10)\n",
    "print(b*c)\n",
    "print(np.dot(b,c))"
   ]
  },
  {
   "cell_type": "code",
   "execution_count": 27,
   "metadata": {},
   "outputs": [
    {
     "data": {
      "text/plain": [
       "array([35.        , 62.58578644, 98.26794919])"
      ]
     },
     "execution_count": 27,
     "metadata": {},
     "output_type": "execute_result"
    }
   ],
   "source": [
    "a=np.array([1,2,3])\n",
    "b=np.array([5,6,7])\n",
    "(a+b)**2. - np.sqrt(a)"
   ]
  },
  {
   "cell_type": "code",
   "execution_count": 29,
   "metadata": {},
   "outputs": [
    {
     "data": {
      "text/plain": [
       "True"
      ]
     },
     "execution_count": 29,
     "metadata": {},
     "output_type": "execute_result"
    }
   ],
   "source": [
    "a = np.array([[1,2],[3,4]],order='F')\n",
    "a.flags['F_CONTIGUOUS']"
   ]
  },
  {
   "cell_type": "code",
   "execution_count": null,
   "metadata": {},
   "outputs": [],
   "source": []
  }
 ],
 "metadata": {
  "kernelspec": {
   "display_name": "Python 3",
   "language": "python",
   "name": "python3"
  },
  "language_info": {
   "codemirror_mode": {
    "name": "ipython",
    "version": 3
   },
   "file_extension": ".py",
   "mimetype": "text/x-python",
   "name": "python",
   "nbconvert_exporter": "python",
   "pygments_lexer": "ipython3",
   "version": "3.7.6"
  }
 },
 "nbformat": 4,
 "nbformat_minor": 4
}
