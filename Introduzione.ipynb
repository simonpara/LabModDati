{
 "cells": [
  {
   "cell_type": "code",
   "execution_count": 1,
   "metadata": {},
   "outputs": [],
   "source": [
    "# Import librerie utili\n",
    "import numpy as np # Numpy - offre una serie di routine di calcolo numerico con array\n",
    "import matplotlib.pyplot as plt # Libreria per i plot"
   ]
  },
  {
   "cell_type": "code",
   "execution_count": 2,
   "metadata": {},
   "outputs": [
    {
     "name": "stdout",
     "output_type": "stream",
     "text": [
      "Hello strange new World\n",
      "Divisione standard:  <class 'float'> 1.5\n",
      "<class 'float'> 1.5\n",
      "Divisione intera:  <class 'int'> 1\n",
      "<class 'float'> 1.0\n",
      "Operazione Resto:  <class 'float'> 1.0\n",
      "<class 'int'> 1\n"
     ]
    }
   ],
   "source": [
    "# Tipi\n",
    "A = 2.0\n",
    "AA = float(3) # sia A che AA sono equipollenti, entrambi sono float\n",
    "B = 2 # Questo è definito come un intero\n",
    "C = \"Hello\"\n",
    "D = 'World' # C e D sono stringhe\n",
    "HW = C+' strange new '+D # Sulle stringhe posso operare con il + per concatenare\n",
    "\n",
    "print(HW)\n",
    "\n",
    "print('Divisione standard: ',type(int(AA)/B), int(AA)/B) # Il casting tramite divisione promuove le variabili a float\n",
    "print(type(AA/B), AA/B)\n",
    "# Non vi fidate mai troppo della divisione tra numeri interi, dipende dalla versione di Python, in questa viene sempre fatta la divisione tra float\n",
    "# anche con input int, in altre versioni di Python potrebbe essere eseguita la divisione intera (tipicamente in python 2.X è così)\n",
    "\n",
    "print('Divisione intera: ',type(B//B), B//B) # Questa è l'operazione di divisione intera\n",
    "print(type(AA//B), AA//B) # Se una delle variabili è un float, l'intero risultante viene promosso a float\n",
    "\n",
    "print('Operazione Resto: ',type(AA%B),AA%B) # Questa è l'operazione resto e valogono le regole di casting già dette\n",
    "print(type(int(AA)%B),int(AA)%B) # Notate che ho forzato la variabile AA ad essere un intero qui tramite l'operatore int()"
   ]
  },
  {
   "cell_type": "code",
   "execution_count": 6,
   "metadata": {},
   "outputs": [
    {
     "name": "stdout",
     "output_type": "stream",
     "text": [
      "[1.0, 2.0, 3.0, 4.0] <class 'list'> <class 'float'>\n",
      "[1.0, 2.0, 3.0, 4.0]\n",
      "[2.0, 3.0, 4.0]\n",
      "[1.0, 2.0]\n",
      "[2.0, 3.0]\n",
      "<class 'int'> <class 'float'> <class 'str'>\n",
      "[1, 2.0, 'Hello World']\n"
     ]
    }
   ],
   "source": [
    "# Definizione di liste - built-in python\n",
    "MyList = [1., 2., 3.] #Lista di numeri double\n",
    "\n",
    "# Posso anche definire una lista vuota ed aggiungere in coda gli elementi uno ad uno\n",
    "MyList = []\n",
    "MyList.append(1.)\n",
    "MyList.append(2.)\n",
    "MyList.append(3.)\n",
    "MyList.append(4.)\n",
    "\n",
    "# Kinds\n",
    "print(MyList, type(MyList), type(MyList[0])) # Python parte dall'elemento 0 per la numerazione \n",
    "print(MyList[:]) # stampa tutti gli elementi della lista\n",
    "print(MyList[1:]) # stampa dall'elemento i fino alla fine\n",
    "print(MyList[:2]) # stanpa dall'elemento 0 fino all'elemento i\n",
    "print(MyList[1:3]) # in python l'estremo sx è sempre incluso, quello dx escluso\n",
    "\n",
    "# Le liste possono mischiare variabili di tipo diverso\n",
    "MyList = []\n",
    "MyList.append(1)\n",
    "MyList.append(2.)\n",
    "MyList.append('Hello World')\n",
    "print(type(MyList[0]),type(MyList[1]),type(MyList[2])) \n",
    "print(MyList)"
   ]
  },
  {
   "cell_type": "markdown",
   "metadata": {},
   "source": [
    "https://docs.python.org/3/tutorial/"
   ]
  },
  {
   "cell_type": "code",
   "execution_count": 7,
   "metadata": {},
   "outputs": [
    {
     "name": "stdout",
     "output_type": "stream",
     "text": [
      "[1, 2.0, 'Hello World']\n",
      "[1, 2.0]\n"
     ]
    }
   ],
   "source": [
    "print(MyList)\n",
    "MyList.pop()\n",
    "print(MyList)"
   ]
  },
  {
   "cell_type": "code",
   "execution_count": 33,
   "metadata": {},
   "outputs": [
    {
     "name": "stdout",
     "output_type": "stream",
     "text": [
      "[1.0, 2.0, 3.0, 4.0, 1.0, 2.0, 3.0, 4.0]\n",
      "[1.0, 2.0, 3.0, 4.0, 2.0, 3.0, 4.0, 5.0]\n"
     ]
    },
    {
     "ename": "TypeError",
     "evalue": "can't multiply sequence by non-int of type 'list'",
     "output_type": "error",
     "traceback": [
      "\u001b[0;31m---------------------------------------------------------------------------\u001b[0m",
      "\u001b[0;31mTypeError\u001b[0m                                 Traceback (most recent call last)",
      "\u001b[0;32m<ipython-input-33-9492847b57cd>\u001b[0m in \u001b[0;36m<module>\u001b[0;34m\u001b[0m\n\u001b[1;32m      7\u001b[0m \u001b[0;34m\u001b[0m\u001b[0m\n\u001b[1;32m      8\u001b[0m \u001b[0mprint\u001b[0m\u001b[0;34m(\u001b[0m\u001b[0ma\u001b[0m \u001b[0;34m+\u001b[0m \u001b[0mb\u001b[0m\u001b[0;34m)\u001b[0m \u001b[0;31m# La somma di liste non corrisponde alla somma di vettori, ma alla concatenazione\u001b[0m\u001b[0;34m\u001b[0m\u001b[0;34m\u001b[0m\u001b[0m\n\u001b[0;32m----> 9\u001b[0;31m \u001b[0mprint\u001b[0m\u001b[0;34m(\u001b[0m\u001b[0ma\u001b[0m \u001b[0;34m*\u001b[0m \u001b[0mb\u001b[0m\u001b[0;34m)\u001b[0m \u001b[0;31m# In python in è implementato il prodotto tra vettori/matrici\u001b[0m\u001b[0;34m\u001b[0m\u001b[0;34m\u001b[0m\u001b[0m\n\u001b[0m",
      "\u001b[0;31mTypeError\u001b[0m: can't multiply sequence by non-int of type 'list'"
     ]
    }
   ],
   "source": [
    "# Operazioni con liste\n",
    "a = [1.,2.,3.,4.]\n",
    "b = [2.,3.,4.,5.]\n",
    "\n",
    "#print(a + 1) \n",
    "print(a * 2) # Il prodotto di una lista per uno scalare non corrisponde al prodotto element-wise, ma replica l'oggetto n volte \n",
    "\n",
    "print(a + b) # La somma di liste non corrisponde alla somma di vettori, ma alla concatenazione\n",
    "print(a * b) # In python non è implementato il prodotto tra vettori/matrici\n"
   ]
  },
  {
   "cell_type": "code",
   "execution_count": 9,
   "metadata": {},
   "outputs": [
    {
     "name": "stdout",
     "output_type": "stream",
     "text": [
      "John is 23 years old.\n",
      "John  is  23  years old.\n"
     ]
    }
   ],
   "source": [
    "# Stamperà \"John is 23 years old.\"\n",
    "name = \"John\"\n",
    "age = 23\n",
    "print(\"%s is %d years old.\" % (name, age))\n",
    "print(name+' is '+str(age)+' years old.')"
   ]
  },
  {
   "cell_type": "markdown",
   "metadata": {},
   "source": [
    "%s - Stringa (o qualsiasi oggetto che possa essere rappresentato con una stringa, ad esempio numeri)\n",
    "%d - Interi\n",
    "%f - Numeri reali/virgola mobile\n",
    "%.<number of digits>f - Numeri in vigola mobile con un un numero fisso di cifre decimali.\n",
    "%x/%X - Rappresentazione esadecimale di numeri interi (minuscolo/maiuscolo)\n",
    "- https://docs.python.org/3/library/string.html"
   ]
  },
  {
   "cell_type": "code",
   "execution_count": 10,
   "metadata": {},
   "outputs": [
    {
     "name": "stdout",
     "output_type": "stream",
     "text": [
      "print interno:  1\n",
      "print interno:  2\n",
      "3\n"
     ]
    }
   ],
   "source": [
    "# Funzioni\n",
    "def myFunction(arg_1,arg_2):\n",
    "    print('print interno: ',arg_1)\n",
    "    print('print interno: ',arg_2)\n",
    "    return arg_1+arg_2\n",
    "\n",
    "#print(myFunction(1,2))\n",
    "d = myFunction(1,2)\n",
    "print(d)"
   ]
  },
  {
   "cell_type": "code",
   "execution_count": 11,
   "metadata": {},
   "outputs": [
    {
     "name": "stdout",
     "output_type": "stream",
     "text": [
      "print interno:  1\n",
      "print interno:  2\n",
      "print interno di tutto il resto:  ('ciao a tutti', 1000, 34, 'ciao zi')\n"
     ]
    }
   ],
   "source": [
    "# Funzioni 2\n",
    "def myFunction(arg_1,arg_2,*ilresto):\n",
    "    print('print interno: ',arg_1)\n",
    "    print('print interno: ', arg_2)\n",
    "    print('print interno di tutto il resto: ', ilresto)\n",
    "    # senza il return la funzione non restituisce nulla, si comporta come una subroutine di Fortran\n",
    "    \n",
    "myFunction(1,2,'ciao a tutti',1000,34,\"ciao zi\")"
   ]
  },
  {
   "cell_type": "code",
   "execution_count": 13,
   "metadata": {},
   "outputs": [
    {
     "name": "stdout",
     "output_type": "stream",
     "text": [
      "0\n",
      "1\n",
      "2\n",
      "3\n",
      "4\n",
      "5\n",
      "6\n",
      "\n",
      "\n",
      "1\n",
      "3\n",
      "5\n",
      "\n",
      "\n",
      "0\n",
      "1\n",
      "2\n",
      "3\n",
      "4\n"
     ]
    }
   ],
   "source": [
    "# Cicli\n",
    "\n",
    "for i in range(7):\n",
    "    print(i) # Occhio, l'indentazione è letta come comando in python, senza non funziona\n",
    "    \n",
    "print('\\n')\n",
    "for i in range(1,7,2):\n",
    "    print(i)\n",
    "\n",
    "print('\\n')\n",
    "i = 0\n",
    "while i<5:\n",
    "    print(i)\n",
    "    i += 1 \n",
    "    \n",
    "# A differenza del while, che rispetta la condizione assegnata da voi, la funzione range() esce dal ciclo senza comprendere l'estremo superiore"
   ]
  },
  {
   "cell_type": "code",
   "execution_count": 14,
   "metadata": {},
   "outputs": [
    {
     "name": "stdout",
     "output_type": "stream",
     "text": [
      "<class 'bool'>\n",
      "OK\n",
      "OK\n"
     ]
    }
   ],
   "source": [
    "# if then else\n",
    "\n",
    "var_1 = True # questa è una variabile logica (bool), e può avere valore True o False\n",
    "print(type(var_1))\n",
    "\n",
    "if var_1==True :\n",
    "    print('OK')\n",
    "    \n",
    "if var_1 :\n",
    "    print('OK')\n",
    "    \n",
    "if not(var_1) :\n",
    "    print('OK anche così')"
   ]
  },
  {
   "cell_type": "code",
   "execution_count": 51,
   "metadata": {},
   "outputs": [
    {
     "name": "stdout",
     "output_type": "stream",
     "text": [
      "OK\n"
     ]
    }
   ],
   "source": [
    "a = 5\n",
    "if a >= 4 and var_1:\n",
    "    print('OK')"
   ]
  },
  {
   "cell_type": "code",
   "execution_count": 17,
   "metadata": {},
   "outputs": [
    {
     "name": "stdout",
     "output_type": "stream",
     "text": [
      "0\n",
      "dispari con resto: 1\n",
      "2\n",
      "dispari con resto: 1\n",
      "4\n",
      "dispari con resto: 1\n",
      "6\n",
      "dispari con resto: 1\n",
      "8\n",
      "dispari con resto: 1\n"
     ]
    }
   ],
   "source": [
    "for i in range(10):\n",
    "    if i%2 == 0 :\n",
    "        print(i)\n",
    "    else :\n",
    "        print('dispari con resto:',i%2)"
   ]
  },
  {
   "cell_type": "markdown",
   "metadata": {},
   "source": [
    "# Some pieces of advices\n",
    "\n",
    "- Use 4-space indentation, and no tabs.\n",
    "\n",
    "- 4 spaces are a good compromise between small indentation (allows greater nesting depth) and large indentation (easier to read). Tabs introduce confusion, and are best left out.\n",
    "\n",
    "- Wrap lines so that they don’t exceed 79 characters.\n",
    "\n",
    "- This helps users with small displays and makes it possible to have several code files side-by-side on larger displays.\n",
    "\n",
    "- Use blank lines to separate functions and classes, and larger blocks of code inside functions.\n",
    "\n",
    "- When possible, put comments on a line of their own.\n",
    "\n",
    "- Use docstrings.\n",
    "\n",
    "- Use spaces around operators and after commas, but not directly inside bracketing constructs: a = f(1, 2) + g(3, 4).\n",
    "\n",
    "- Name your classes and functions consistently; the convention is to use UpperCamelCase for classes and lowercase_with_underscores for functions and methods. Always use self as the name for the first method argument (see A First Look at Classes for more on classes and methods).\n",
    "\n",
    "- Don’t use fancy encodings if your code is meant to be used in international environments. Python’s default, UTF-8, or even plain ASCII work best in any case.\n",
    "\n",
    "- Likewise, don’t use non-ASCII characters in identifiers if there is only the slightest chance people speaking a different language will read or maintain the code."
   ]
  },
  {
   "cell_type": "code",
   "execution_count": null,
   "metadata": {},
   "outputs": [],
   "source": []
  }
 ],
 "metadata": {
  "kernelspec": {
   "display_name": "Python 3",
   "language": "python",
   "name": "python3"
  },
  "language_info": {
   "codemirror_mode": {
    "name": "ipython",
    "version": 3
   },
   "file_extension": ".py",
   "mimetype": "text/x-python",
   "name": "python",
   "nbconvert_exporter": "python",
   "pygments_lexer": "ipython3",
   "version": "3.7.6"
  }
 },
 "nbformat": 4,
 "nbformat_minor": 4
}
